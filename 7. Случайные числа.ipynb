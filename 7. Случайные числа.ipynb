{
 "cells": [
  {
   "cell_type": "code",
   "execution_count": 5,
   "id": "ddfc5b7d-c96c-4a6e-ad66-51f3e3151ec7",
   "metadata": {},
   "outputs": [
    {
     "name": "stdout",
     "output_type": "stream",
     "text": [
      "88.35361929680157\n"
     ]
    }
   ],
   "source": [
    "import random\n",
    "\n",
    "num = random.random()\n",
    "num = num*100\n",
    "\n",
    "print(num)"
   ]
  },
  {
   "cell_type": "code",
   "execution_count": 11,
   "id": "832b2864-16a2-47f4-b731-ee3f55044d7b",
   "metadata": {},
   "outputs": [
    {
     "name": "stdout",
     "output_type": "stream",
     "text": [
      "23\n"
     ]
    }
   ],
   "source": [
    "import random\n",
    "\n",
    "number = random.choice([4, 8, 15, 16, 23, 42])\n",
    "\n",
    "print(number)"
   ]
  },
  {
   "cell_type": "markdown",
   "id": "c17ee107-b2ac-4e30-ad22-93e17918ccfd",
   "metadata": {},
   "source": [
    "# 52"
   ]
  },
  {
   "cell_type": "code",
   "execution_count": 13,
   "id": "43ce798e-843c-4af2-9322-33d333bc929d",
   "metadata": {},
   "outputs": [
    {
     "name": "stdout",
     "output_type": "stream",
     "text": [
      "47\n"
     ]
    }
   ],
   "source": [
    "import random\n",
    "\n",
    "number = random.randint(1, 100)\n",
    "\n",
    "print(number)"
   ]
  },
  {
   "cell_type": "markdown",
   "id": "d141609f-ae9b-4222-82fc-b9cb97dd10a1",
   "metadata": {},
   "source": [
    "# 53"
   ]
  },
  {
   "cell_type": "code",
   "execution_count": 14,
   "id": "78575f0a-005e-4384-9239-5371fe44e868",
   "metadata": {},
   "outputs": [
    {
     "name": "stdout",
     "output_type": "stream",
     "text": [
      "Hannover\n"
     ]
    }
   ],
   "source": [
    "import random\n",
    "\n",
    "words = random.choice([\"Hannover\", \"Gibraltar\", \"Gamma\", \"Aberdin\", \"Vega\"])\n",
    "\n",
    "print(words)"
   ]
  },
  {
   "cell_type": "markdown",
   "id": "96be8f7c-2240-4716-9733-dbfaa8f4cb65",
   "metadata": {},
   "source": [
    "# 54"
   ]
  },
  {
   "cell_type": "code",
   "execution_count": 15,
   "id": "da65b1a8-895a-4acc-8a4a-16efc69f2420",
   "metadata": {},
   "outputs": [
    {
     "name": "stdin",
     "output_type": "stream",
     "text": [
      "Try (h or t):  t\n"
     ]
    },
    {
     "name": "stdout",
     "output_type": "stream",
     "text": [
      "Bad luck\n",
      "Value was: h\n"
     ]
    }
   ],
   "source": [
    "import random\n",
    "\n",
    "value = random.choice([\"h\", \"t\"])\n",
    "answer = input(\"Try (h or t): \")\n",
    "\n",
    "if answer == value:\n",
    "    print(\"Great!\")\n",
    "else:\n",
    "    print(\"Bad luck\")\n",
    "\n",
    "print(\"Value was: \" + value)"
   ]
  },
  {
   "cell_type": "markdown",
   "id": "e856a891-905a-41cb-b34d-fc6f00e75536",
   "metadata": {},
   "source": [
    "# 55"
   ]
  },
  {
   "cell_type": "code",
   "execution_count": 18,
   "id": "41eb983b-f28f-4db4-865f-6bd5c764c070",
   "metadata": {},
   "outputs": [
    {
     "name": "stdin",
     "output_type": "stream",
     "text": [
      "Choose number from 1 to 5:  3\n"
     ]
    },
    {
     "name": "stdout",
     "output_type": "stream",
     "text": [
      "Your number is greater\n"
     ]
    },
    {
     "name": "stdin",
     "output_type": "stream",
     "text": [
      "Would you like to try again? (y or n)  y\n",
      "Choose number from 1 to 5:  2\n"
     ]
    },
    {
     "name": "stdout",
     "output_type": "stream",
     "text": [
      "Correct\n"
     ]
    }
   ],
   "source": [
    "import random\n",
    "\n",
    "number = random.randint(1, 5)\n",
    "nsw_number = int(input(\"Choose number from 1 to 5: \"))\n",
    "\n",
    "if nsw_number == number:\n",
    "    print(\"Well done\")\n",
    "\n",
    "else:\n",
    "    if nsw_number > number:\n",
    "        print(\"Your number is greater\")\n",
    "    else:\n",
    "        print(\"Your number is less\")\n",
    "    answer = input(\"Would you like to try again? (y or n) \")\n",
    "    if answer != \"y\":\n",
    "        print(\"Bye!\")\n",
    "    else:\n",
    "        nsw_number = int(input(\"Choose number from 1 to 5: \"))\n",
    "        if nsw_number == number:\n",
    "            print(\"Correct\")\n",
    "        else:\n",
    "            print(\"You lose\")"
   ]
  },
  {
   "cell_type": "markdown",
   "id": "a7fb57ae-32f5-4459-96cb-5f104efe9503",
   "metadata": {},
   "source": [
    "# 56"
   ]
  },
  {
   "cell_type": "code",
   "execution_count": 1,
   "id": "91f757cb-0f34-472f-acf5-8ae208062762",
   "metadata": {},
   "outputs": [
    {
     "name": "stdin",
     "output_type": "stream",
     "text": [
      "Try (1-10):  4\n",
      "Try (1-10):  3\n",
      "Try (1-10):  5\n",
      "Try (1-10):  6\n",
      "Try (1-10):  7\n",
      "Try (1-10):  1\n"
     ]
    },
    {
     "name": "stdout",
     "output_type": "stream",
     "text": [
      "Great!\n"
     ]
    }
   ],
   "source": [
    "import random\n",
    "\n",
    "number = random.randint(1, 10)\n",
    "usnumber = int(input(\"Try (1-10): \"))\n",
    "\n",
    "while number != usnumber:\n",
    "    usnumber = int(input(\"Try (1-10): \"))\n",
    "\n",
    "print(\"Great!\")"
   ]
  },
  {
   "cell_type": "markdown",
   "id": "03af68c8-1a8d-4a17-ace0-c01b4d044322",
   "metadata": {},
   "source": [
    "# 57"
   ]
  },
  {
   "cell_type": "code",
   "execution_count": 4,
   "id": "51299d30-9ecf-49dd-a4bb-5f1c6f3db11f",
   "metadata": {},
   "outputs": [
    {
     "name": "stdin",
     "output_type": "stream",
     "text": [
      "Try (1-10):  5\n"
     ]
    },
    {
     "name": "stdout",
     "output_type": "stream",
     "text": [
      "Greater\n"
     ]
    },
    {
     "name": "stdin",
     "output_type": "stream",
     "text": [
      "Try (1-10):  3\n"
     ]
    },
    {
     "name": "stdout",
     "output_type": "stream",
     "text": [
      "Great!\n"
     ]
    }
   ],
   "source": [
    "import random\n",
    "\n",
    "number = random.randint(1, 10)\n",
    "usnumber = int(input(\"Try (1-10): \"))\n",
    "if usnumber > number:\n",
    "        print(\"Greater\")\n",
    "elif usnumber < number:\n",
    "        print(\"Less\")\n",
    "\n",
    "while number != usnumber:\n",
    "    usnumber = int(input(\"Try (1-10): \"))\n",
    "    if usnumber > number:\n",
    "        print(\"Greater\")\n",
    "    elif usnumber < number:\n",
    "        print(\"Less\")\n",
    "\n",
    "print(\"Great!\")"
   ]
  },
  {
   "cell_type": "markdown",
   "id": "90d99944-92e5-4460-9021-97480a68a05e",
   "metadata": {},
   "source": [
    "# 58"
   ]
  },
  {
   "cell_type": "code",
   "execution_count": 12,
   "id": "146a113d-4831-4d21-a73c-783d799ac6ae",
   "metadata": {},
   "outputs": [
    {
     "name": "stdout",
     "output_type": "stream",
     "text": [
      "57 + 0\n"
     ]
    },
    {
     "name": "stdin",
     "output_type": "stream",
     "text": [
      "Answer:  57\n"
     ]
    },
    {
     "name": "stdout",
     "output_type": "stream",
     "text": [
      "Great\n",
      "10 - 71\n"
     ]
    },
    {
     "name": "stdin",
     "output_type": "stream",
     "text": [
      "Answer:  -61\n"
     ]
    },
    {
     "name": "stdout",
     "output_type": "stream",
     "text": [
      "Great\n",
      "1 * 64\n"
     ]
    },
    {
     "name": "stdin",
     "output_type": "stream",
     "text": [
      "Answer:  64\n"
     ]
    },
    {
     "name": "stdout",
     "output_type": "stream",
     "text": [
      "Great\n",
      "21 / 99\n"
     ]
    },
    {
     "name": "stdin",
     "output_type": "stream",
     "text": [
      "Answer (integer, rounded):  0\n"
     ]
    },
    {
     "name": "stdout",
     "output_type": "stream",
     "text": [
      "Great\n",
      "(74 + 64) * 12\n"
     ]
    },
    {
     "name": "stdin",
     "output_type": "stream",
     "text": [
      "Answer:  1656\n"
     ]
    },
    {
     "name": "stdout",
     "output_type": "stream",
     "text": [
      "Great\n",
      "Result: 5 / 5\n"
     ]
    }
   ],
   "source": [
    "import random\n",
    "\n",
    "counter = 0\n",
    "\n",
    "a = random.randint(0, 100)\n",
    "b = random.randint(0, 100)\n",
    "x1 = a + b\n",
    "print(str(a) + \" + \" + str(b))\n",
    "answer = int(input(\"Answer: \"))\n",
    "\n",
    "if answer == x1:\n",
    "    print(\"Great\")\n",
    "    counter = counter + 1\n",
    "else:\n",
    "    print(\"Error\")\n",
    "\n",
    "a = random.randint(0, 100)\n",
    "b = random.randint(0, 100)\n",
    "x2 = a - b\n",
    "print(str(a) + \" - \" + str(b))\n",
    "answer = int(input(\"Answer: \"))\n",
    "\n",
    "if answer == x2:\n",
    "    print(\"Great\")\n",
    "    counter = counter + 1\n",
    "else:\n",
    "    print(\"Error\")\n",
    "\n",
    "a = random.randint(0, 100)\n",
    "b = random.randint(0, 100)\n",
    "x3 = a * b\n",
    "print(str(a) + \" * \" + str(b))\n",
    "answer = int(input(\"Answer: \"))\n",
    "\n",
    "if answer == x3:\n",
    "    print(\"Great\")\n",
    "    counter = counter + 1\n",
    "else:\n",
    "    print(\"Error\")\n",
    "\n",
    "a = random.randint(0, 100)\n",
    "b = random.randint(0, 100)\n",
    "x4 = int(a / b)\n",
    "print(str(a) + \" / \" + str(b))\n",
    "answer = int(input(\"Answer (integer, rounded): \"))\n",
    "\n",
    "if answer == x4:\n",
    "    print(\"Great\")\n",
    "    counter = counter + 1\n",
    "else:\n",
    "    print(\"Error\")\n",
    "\n",
    "a = random.randint(0, 100)\n",
    "b = random.randint(0, 100)\n",
    "x5 = (a + b) * 12\n",
    "print(\"(\" + str(a) + \" + \" + str(b) + \") * 12\")\n",
    "answer = int(input(\"Answer: \"))\n",
    "\n",
    "if answer == x5:\n",
    "    print(\"Great\")\n",
    "    counter = counter + 1\n",
    "else:\n",
    "    print(\"Error\")\n",
    "\n",
    "print(\"Result: \" + str(counter) + \" / 5\")"
   ]
  },
  {
   "cell_type": "markdown",
   "id": "c9de2946-0ead-4185-b086-db9a492a8d65",
   "metadata": {},
   "source": [
    "# 59"
   ]
  },
  {
   "cell_type": "code",
   "execution_count": 26,
   "id": "ee108428-2272-442a-9243-446068d0783e",
   "metadata": {},
   "outputs": [
    {
     "name": "stdin",
     "output_type": "stream",
     "text": [
      "Choose colour:  green\n"
     ]
    },
    {
     "name": "stdout",
     "output_type": "stream",
     "text": [
      "Starts with 'b' ends with 'k'\n"
     ]
    },
    {
     "name": "stdin",
     "output_type": "stream",
     "text": [
      "Try again:  white\n",
      "Nope! Try again:  blue\n",
      "Nope! Try again:  pink\n",
      "Nope! Try again:  black\n"
     ]
    },
    {
     "name": "stdout",
     "output_type": "stream",
     "text": [
      "Great!\n"
     ]
    }
   ],
   "source": [
    "import random\n",
    "colours = random.choice([\"black\", \"white\", \"blue\", \"yellow\", \"green\"])\n",
    "answer = input(\"Choose colour: \")\n",
    "    \n",
    "if answer == colours:\n",
    "    print(\"Great!\")\n",
    "\n",
    "else:\n",
    "    length = len(colours)\n",
    "    print(\"Starts with \" + \"'\" + colours[0] + \"'\" + \" ends with \" + \"'\" + colours[length-1] + \"'\")\n",
    "\n",
    "    answer = input(\"Try again: \")\n",
    "    while answer != colours:\n",
    "        answer = input(\"Nope! Try again: \")\n",
    "    print(\"Great!\")"
   ]
  },
  {
   "cell_type": "code",
   "execution_count": null,
   "id": "06d7e6c9-7960-43be-a255-42e48d2c2e32",
   "metadata": {},
   "outputs": [],
   "source": []
  }
 ],
 "metadata": {
  "kernelspec": {
   "display_name": "Python 3 (ipykernel)",
   "language": "python",
   "name": "python3"
  },
  "language_info": {
   "codemirror_mode": {
    "name": "ipython",
    "version": 3
   },
   "file_extension": ".py",
   "mimetype": "text/x-python",
   "name": "python",
   "nbconvert_exporter": "python",
   "pygments_lexer": "ipython3",
   "version": "3.12.0"
  }
 },
 "nbformat": 4,
 "nbformat_minor": 5
}
