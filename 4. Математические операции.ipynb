{
 "cells": [
  {
   "cell_type": "markdown",
   "id": "dd25e892",
   "metadata": {},
   "source": [
    "# №27"
   ]
  },
  {
   "cell_type": "code",
   "execution_count": 5,
   "id": "d0a0847e-cec7-4639-90d0-940b4f9e7d93",
   "metadata": {},
   "outputs": [
    {
     "name": "stdin",
     "output_type": "stream",
     "text": [
      "Enter number:  24\n"
     ]
    },
    {
     "name": "stdout",
     "output_type": "stream",
     "text": [
      "Result: 71.1127792416\n"
     ]
    }
   ],
   "source": [
    "number = float(int(input(\"Enter number: \"))*1.4815162342)\n",
    "\n",
    "result = number*2\n",
    "\n",
    "print(\"Result: \" + str(result))"
   ]
  },
  {
   "cell_type": "markdown",
   "id": "87179cee",
   "metadata": {},
   "source": [
    "# №28"
   ]
  },
  {
   "cell_type": "code",
   "execution_count": 6,
   "id": "f6fe9d5e-fb00-4697-aceb-c0c2d1e08021",
   "metadata": {},
   "outputs": [
    {
     "name": "stdout",
     "output_type": "stream",
     "text": [
      "71.11\n"
     ]
    }
   ],
   "source": [
    "print(round(result, 2))"
   ]
  },
  {
   "cell_type": "markdown",
   "id": "4aa312a1",
   "metadata": {},
   "source": [
    "# №29"
   ]
  },
  {
   "cell_type": "code",
   "execution_count": 9,
   "id": "ab9ac2ad-5759-4b85-97f8-b6c01b736eb8",
   "metadata": {},
   "outputs": [
    {
     "name": "stdin",
     "output_type": "stream",
     "text": [
      "Number over 500:  524\n"
     ]
    },
    {
     "name": "stdout",
     "output_type": "stream",
     "text": [
      "22.89\n"
     ]
    }
   ],
   "source": [
    "import math\n",
    "\n",
    "enter = int(input(\"Number over 500: \"))\n",
    "sqrt = math.sqrt(enter)\n",
    "print(round(sqrt, 2))"
   ]
  },
  {
   "cell_type": "markdown",
   "id": "6637fbb3",
   "metadata": {},
   "source": [
    "# №30"
   ]
  },
  {
   "cell_type": "code",
   "execution_count": 2,
   "id": "89547bd8-79f8-41c4-9056-45dc51264bef",
   "metadata": {},
   "outputs": [
    {
     "name": "stdout",
     "output_type": "stream",
     "text": [
      "3.141592653589793\n"
     ]
    }
   ],
   "source": [
    "import math\n",
    "\n",
    "print(math.pi)"
   ]
  },
  {
   "cell_type": "markdown",
   "id": "4e9a9b20",
   "metadata": {},
   "source": [
    "# №31"
   ]
  },
  {
   "cell_type": "code",
   "execution_count": 10,
   "id": "19683156-1673-4447-808c-bc961578c21c",
   "metadata": {},
   "outputs": [
    {
     "name": "stdin",
     "output_type": "stream",
     "text": [
      "Radius:  24\n"
     ]
    },
    {
     "name": "stdout",
     "output_type": "stream",
     "text": [
      "1809.5573684677208\n"
     ]
    }
   ],
   "source": [
    "import math\n",
    "\n",
    "r = float(input(\"Radius: \"))\n",
    "s = math.pi * r**2\n",
    "\n",
    "print(s)"
   ]
  },
  {
   "cell_type": "markdown",
   "id": "76d74a8b",
   "metadata": {},
   "source": [
    "# №32"
   ]
  },
  {
   "cell_type": "code",
   "execution_count": 11,
   "id": "f7d82192-d2e0-40a2-ac92-e4a9e66d8ce3",
   "metadata": {},
   "outputs": [
    {
     "name": "stdin",
     "output_type": "stream",
     "text": [
      "Radius:  24\n",
      "Height:  8\n"
     ]
    },
    {
     "name": "stdout",
     "output_type": "stream",
     "text": [
      "14476.459\n"
     ]
    }
   ],
   "source": [
    "import math\n",
    "\n",
    "rad = float(input(\"Radius: \"))\n",
    "h = float(input(\"Height: \"))\n",
    "\n",
    "sr = math.pi * rad**2\n",
    "v = sr * h\n",
    "\n",
    "print(round(v, 3))"
   ]
  },
  {
   "cell_type": "markdown",
   "id": "e5d41c6c",
   "metadata": {},
   "source": [
    "# №33"
   ]
  },
  {
   "cell_type": "code",
   "execution_count": 13,
   "id": "71283803-d5ad-4209-ac9f-dea505783a57",
   "metadata": {},
   "outputs": [
    {
     "name": "stdin",
     "output_type": "stream",
     "text": [
      "Enter number 1:  23\n",
      "Enter number 2:  9\n"
     ]
    },
    {
     "name": "stdout",
     "output_type": "stream",
     "text": [
      "Dividing 23.0 by 9.0 gives 2.0 and 5.0 as a reminder\n"
     ]
    }
   ],
   "source": [
    "number1 = float(input(\"Enter number 1: \"))\n",
    "number2 = float(input(\"Enter number 2: \"))\n",
    "\n",
    "de = number1 // number2\n",
    "ost = number1 % number2\n",
    "\n",
    "print(\"Dividing {} by {} gives {} and {} as a reminder\".format(str(number1), str(number2), str(de), str(ost)))"
   ]
  },
  {
   "cell_type": "markdown",
   "id": "5ccec5be",
   "metadata": {},
   "source": [
    "# №34"
   ]
  },
  {
   "cell_type": "code",
   "execution_count": 15,
   "id": "61586fb6-dbae-47b1-ad50-9bb6da900723",
   "metadata": {},
   "outputs": [
    {
     "name": "stdin",
     "output_type": "stream",
     "text": [
      "1) Square\n",
      "2) Triangle\n",
      "\n",
      "Enter a number:  2\n",
      "Longitude:  8\n",
      "Heght:  3\n"
     ]
    },
    {
     "name": "stdout",
     "output_type": "stream",
     "text": [
      "S: 12.0\n"
     ]
    }
   ],
   "source": [
    "x = int(input(\"1) Square\\n2) Triangle\\n\\nEnter a number: \"))\n",
    "\n",
    "if x == 1:\n",
    "    a = float(input(\"Longitude: \"))\n",
    "    print(\"S: \" + str(a**2))\n",
    "\n",
    "elif x == 2:\n",
    "    b = float(input(\"Longitude: \"))\n",
    "    c = float(input(\"Heght: \"))\n",
    "    s = 0.5 * b * c\n",
    "    print(\"S: \" + str(s))\n",
    "\n",
    "else:\n",
    "    print(\"Error!\")"
   ]
  },
  {
   "cell_type": "code",
   "execution_count": null,
   "id": "259556b7-f368-4bd1-9fdf-2dfce90d9018",
   "metadata": {},
   "outputs": [],
   "source": []
  }
 ],
 "metadata": {
  "kernelspec": {
   "display_name": "Python 3 (ipykernel)",
   "language": "python",
   "name": "python3"
  },
  "language_info": {
   "codemirror_mode": {
    "name": "ipython",
    "version": 3
   },
   "file_extension": ".py",
   "mimetype": "text/x-python",
   "name": "python",
   "nbconvert_exporter": "python",
   "pygments_lexer": "ipython3",
   "version": "3.11.5"
  }
 },
 "nbformat": 4,
 "nbformat_minor": 5
}
