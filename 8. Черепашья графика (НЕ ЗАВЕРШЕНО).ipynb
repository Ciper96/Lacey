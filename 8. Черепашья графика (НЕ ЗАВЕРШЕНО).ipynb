{
 "cells": [
  {
   "cell_type": "code",
   "execution_count": 26,
   "id": "0876ec40-3a02-4b44-94eb-200c7f589a47",
   "metadata": {},
   "outputs": [],
   "source": [
    "import turtle\n",
    "\n",
    "turtle.shape(\"turtle\")\n",
    "\n",
    "for i in range (0, 5):\n",
    "    turtle.forward(100)\n",
    "    turtle.right(72)\n",
    "\n",
    "turtle.exitonclick()"
   ]
  },
  {
   "cell_type": "code",
   "execution_count": 36,
   "id": "d37dbc1d-50e2-4b75-806e-4b0f57301fe0",
   "metadata": {},
   "outputs": [],
   "source": [
    "import turtle\n",
    "\n",
    "for i in range (0, 10):\n",
    "    turtle.right(36)\n",
    "    for i in range(0, 5):\n",
    "        turtle.forward(100)\n",
    "        turtle.right(72)\n",
    "\n",
    "turtle.exitonclick()"
   ]
  },
  {
   "cell_type": "markdown",
   "id": "22843b33-d6ff-4c6e-97ac-42b4a3a0656d",
   "metadata": {},
   "source": [
    "# 60"
   ]
  },
  {
   "cell_type": "code",
   "execution_count": null,
   "id": "75d484ec-a7c6-49e1-bea9-c275b6174b9b",
   "metadata": {},
   "outputs": [],
   "source": [
    "import turtle\n",
    "\n",
    "for i in range (4):\n",
    "    turtle.right(90)\n",
    "    turtle.forward(100)\n",
    "\n",
    "turtle.exitonclick()"
   ]
  },
  {
   "cell_type": "markdown",
   "id": "08641a5c-cced-426f-94db-67f2570a3149",
   "metadata": {},
   "source": [
    "# 61"
   ]
  },
  {
   "cell_type": "code",
   "execution_count": null,
   "id": "5d07db85-c14b-4815-9331-714d46e66de8",
   "metadata": {},
   "outputs": [],
   "source": [
    "import turtle\n",
    "\n",
    "for i in range(3):\n",
    "    turtle.forward(100)\n",
    "    turtle.left(120)\n",
    "\n",
    "turtle.exitonclick()"
   ]
  },
  {
   "cell_type": "markdown",
   "id": "2d23f593-133a-4fa4-982c-ce12f742a6af",
   "metadata": {},
   "source": [
    "# 62"
   ]
  },
  {
   "cell_type": "code",
   "execution_count": 9,
   "id": "35094643-34dc-417e-9d1b-e22ebe348368",
   "metadata": {},
   "outputs": [],
   "source": [
    "import turtle\n",
    "\n",
    "for i in range(360):\n",
    "    turtle.right(1)\n",
    "    turtle.forward(1)\n",
    "\n",
    "turtle.exitonclick()"
   ]
  },
  {
   "cell_type": "code",
   "execution_count": null,
   "id": "f3a23c6e-dc23-4b2e-acbb-955db5a0fbac",
   "metadata": {},
   "outputs": [],
   "source": []
  }
 ],
 "metadata": {
  "kernelspec": {
   "display_name": "Python 3 (ipykernel)",
   "language": "python",
   "name": "python3"
  },
  "language_info": {
   "codemirror_mode": {
    "name": "ipython",
    "version": 3
   },
   "file_extension": ".py",
   "mimetype": "text/x-python",
   "name": "python",
   "nbconvert_exporter": "python",
   "pygments_lexer": "ipython3",
   "version": "3.12.0"
  }
 },
 "nbformat": 4,
 "nbformat_minor": 5
}
