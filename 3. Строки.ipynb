{
 "cells": [
  {
   "cell_type": "markdown",
   "id": "a8c80ec8",
   "metadata": {},
   "source": [
    "# №20."
   ]
  },
  {
   "cell_type": "code",
   "execution_count": 1,
   "id": "103ac873",
   "metadata": {},
   "outputs": [
    {
     "name": "stdout",
     "output_type": "stream",
     "text": [
      "Введите ваше имя: Иван\n",
      "Ваше имя содержит 4 символов(а)\n"
     ]
    }
   ],
   "source": [
    "name = input(\"Введите ваше имя: \")\n",
    "\n",
    "print(\"Ваше имя содержит {} символов(а)\".format(len(name)))"
   ]
  },
  {
   "cell_type": "markdown",
   "id": "820f0c5c",
   "metadata": {},
   "source": [
    "# №21."
   ]
  },
  {
   "cell_type": "code",
   "execution_count": 2,
   "id": "b4f05b98",
   "metadata": {},
   "outputs": [
    {
     "name": "stdout",
     "output_type": "stream",
     "text": [
      "Введите ваше имя: Иван\n",
      "Введите вашу фамилию: Иванов\n",
      "Вы - Иван Иванов!\n"
     ]
    }
   ],
   "source": [
    "imya = input(\"Введите ваше имя: \")\n",
    "familiya = input(\"Введите вашу фамилию: \")\n",
    "\n",
    "person = \"Вы - {} {}!\".format(imya, familiya)\n",
    "\n",
    "print(person)"
   ]
  },
  {
   "cell_type": "markdown",
   "id": "391e9765",
   "metadata": {},
   "source": [
    "# №22."
   ]
  },
  {
   "cell_type": "code",
   "execution_count": 3,
   "id": "344d7ee4",
   "metadata": {},
   "outputs": [
    {
     "name": "stdout",
     "output_type": "stream",
     "text": [
      "Введите ваше имя в нижнем регистре: иван\n",
      "Введите вашу фамилию в нижнем регистре: иванов\n",
      "Иван Иванов\n"
     ]
    }
   ],
   "source": [
    "first = input(\"Введите ваше имя в нижнем регистре: \")\n",
    "second = input(\"Введите вашу фамилию в нижнем регистре: \")\n",
    "\n",
    "print((first+\" \"+second).title())"
   ]
  },
  {
   "cell_type": "markdown",
   "id": "14812a7a",
   "metadata": {},
   "source": [
    "# №23."
   ]
  },
  {
   "cell_type": "code",
   "execution_count": 8,
   "id": "885d227a",
   "metadata": {},
   "outputs": [
    {
     "name": "stdout",
     "output_type": "stream",
     "text": [
      "Введите одну строку стихотворения: Пока свободою горим\n",
      "Длина строки: 19 символов(а)\n",
      "Введите индекс начала диапазона: 5\n",
      "Введите индекс конца диапазона: 14\n",
      "Искомый фрагмент: свободою \n"
     ]
    }
   ],
   "source": [
    "text = input(\"Введите одну строку стихотворения: \")\n",
    "\n",
    "longitude = len(text)\n",
    "\n",
    "print(\"Длина строки: \"+str(longitude)+\" символов(а)\")\n",
    "\n",
    "position1 = int(input(\"Введите индекс начала диапазона: \"))\n",
    "position2 = int(input(\"Введите индекс конца диапазона: \"))\n",
    "\n",
    "print(\"Искомый фрагмент: \"+text[position1:position2])"
   ]
  },
  {
   "cell_type": "markdown",
   "id": "e30bfa8b",
   "metadata": {},
   "source": [
    "# №24."
   ]
  },
  {
   "cell_type": "code",
   "execution_count": 4,
   "id": "8a9bfe9c",
   "metadata": {},
   "outputs": [
    {
     "name": "stdout",
     "output_type": "stream",
     "text": [
      "Введите ваше имя: Иван\n",
      "ИВАН\n"
     ]
    }
   ],
   "source": [
    "zov = input(\"Введите ваше имя: \")\n",
    "\n",
    "print(zov.upper())"
   ]
  },
  {
   "cell_type": "markdown",
   "id": "92ae5493",
   "metadata": {},
   "source": [
    "# №25."
   ]
  },
  {
   "cell_type": "code",
   "execution_count": 5,
   "id": "c1534336",
   "metadata": {},
   "outputs": [
    {
     "name": "stdout",
     "output_type": "stream",
     "text": [
      "Введите ваше имя: Иван\n",
      "Введите вашу фамилию: Иванов\n",
      "ИВАН ИВАНОВ\n",
      "Введите ваше имя: Константин\n",
      "константин\n"
     ]
    }
   ],
   "source": [
    "for i in range(2):\n",
    "    user = input(\"Введите ваше имя: \")\n",
    "\n",
    "    user_length = len(user)\n",
    "\n",
    "    if user_length < 5:\n",
    "    \n",
    "        user2 = input(\"Введите вашу фамилию: \")\n",
    "        print((user+\" \"+user2).upper())\n",
    "\n",
    "    else:\n",
    "        print(user.lower())"
   ]
  },
  {
   "cell_type": "markdown",
   "id": "6c4908eb",
   "metadata": {},
   "source": [
    "# №26."
   ]
  },
  {
   "cell_type": "code",
   "execution_count": 19,
   "id": "cf3259ed",
   "metadata": {},
   "outputs": [
    {
     "name": "stdout",
     "output_type": "stream",
     "text": [
      "Please, enter one word in English: Apple\n",
      "In Pig Latin: appleway\n",
      "Please, enter one word in English: HAPPINESS\n",
      "In Pig Latin: happinesshay\n",
      "Please, enter one word in English: Воробей\n",
      "Typed with error\n"
     ]
    }
   ],
   "source": [
    "glasnye = (\"a\", \"o\", \"e\", \"i\", \"u\", \"y\")\n",
    "soglasnye = (\"b\", \"c\", \"d\", \"f\", \"g\", \"h\", \"j\", \"k\", \"l\", \"m\", \"n\", \"p\", \"q\", \"r\", \"s\", \"t\", \"v\", \"w\", \"x\", \"y\", \"z\")\n",
    "\n",
    "for i in range(3):\n",
    "\n",
    "    slovo = input(\"Please, enter one word in English: \")\n",
    "    slovo = slovo.lower()\n",
    "    simvol = slovo[0]\n",
    "\n",
    "    if simvol in glasnye:\n",
    "    \n",
    "        slovo_pig = slovo + \"way\"\n",
    "        print(\"In Pig Latin: \" + slovo_pig)\n",
    "    \n",
    "    elif simvol in soglasnye:\n",
    "    \n",
    "        slovo_pig = slovo + simvol + \"ay\"\n",
    "        print(\"In Pig Latin: \" + slovo_pig)\n",
    "    \n",
    "    else:\n",
    "    \n",
    "        print(\"Typed with error\")"
   ]
  },
  {
   "cell_type": "code",
   "execution_count": null,
   "id": "4dd1771e",
   "metadata": {},
   "outputs": [],
   "source": []
  }
 ],
 "metadata": {
  "kernelspec": {
   "display_name": "Python 3 (ipykernel)",
   "language": "python",
   "name": "python3"
  },
  "language_info": {
   "codemirror_mode": {
    "name": "ipython",
    "version": 3
   },
   "file_extension": ".py",
   "mimetype": "text/x-python",
   "name": "python",
   "nbconvert_exporter": "python",
   "pygments_lexer": "ipython3",
   "version": "3.11.5"
  }
 },
 "nbformat": 4,
 "nbformat_minor": 5
}
