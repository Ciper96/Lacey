{
 "cells": [
  {
   "cell_type": "markdown",
   "id": "5ca05491-c3a6-45a1-8dd0-c5c6b962051e",
   "metadata": {},
   "source": [
    "# №35"
   ]
  },
  {
   "cell_type": "code",
   "execution_count": 2,
   "id": "8d697abc-f35f-44d2-80f7-e268b10524fd",
   "metadata": {},
   "outputs": [
    {
     "name": "stdin",
     "output_type": "stream",
     "text": [
      "Type name:  Name\n"
     ]
    },
    {
     "name": "stdout",
     "output_type": "stream",
     "text": [
      "Name\n",
      "Name\n",
      "Name\n"
     ]
    }
   ],
   "source": [
    "name = input(\"Type name: \")\n",
    "for i in range(3):\n",
    "    print(name)"
   ]
  },
  {
   "cell_type": "markdown",
   "id": "13e44677-56b1-40bf-a69d-f148af7b2827",
   "metadata": {},
   "source": [
    "# №36"
   ]
  },
  {
   "cell_type": "code",
   "execution_count": 3,
   "id": "40e9c242-eec0-4099-afca-662cba5dc733",
   "metadata": {},
   "outputs": [
    {
     "name": "stdin",
     "output_type": "stream",
     "text": [
      "Type name:  Name\n",
      "Type number:  2\n"
     ]
    },
    {
     "name": "stdout",
     "output_type": "stream",
     "text": [
      "Name\n",
      "Name\n"
     ]
    }
   ],
   "source": [
    "name = input(\"Type name: \")\n",
    "number = int(input(\"Type number: \"))\n",
    "\n",
    "for i in range(number):\n",
    "    print(name)"
   ]
  },
  {
   "cell_type": "markdown",
   "id": "a7532bdb-5031-4075-843c-64c11c2f4609",
   "metadata": {},
   "source": [
    "# №37"
   ]
  },
  {
   "cell_type": "code",
   "execution_count": 5,
   "id": "907b4592-5108-4596-bae3-ea26f49b737b",
   "metadata": {},
   "outputs": [
    {
     "name": "stdin",
     "output_type": "stream",
     "text": [
      "Type name:  Name\n"
     ]
    },
    {
     "name": "stdout",
     "output_type": "stream",
     "text": [
      "N\n",
      "a\n",
      "m\n",
      "e\n"
     ]
    }
   ],
   "source": [
    "name = input(\"Type name: \")\n",
    "\n",
    "for i in name:\n",
    "    print(i)"
   ]
  },
  {
   "cell_type": "markdown",
   "id": "42633cb2-335c-4bab-9c25-bf82e665beb8",
   "metadata": {},
   "source": [
    "# №38"
   ]
  },
  {
   "cell_type": "code",
   "execution_count": 8,
   "id": "54861961-5d12-4931-8e88-dc87f98c8765",
   "metadata": {},
   "outputs": [
    {
     "name": "stdin",
     "output_type": "stream",
     "text": [
      "Type name:  Name\n",
      "Type number:  2\n"
     ]
    },
    {
     "name": "stdout",
     "output_type": "stream",
     "text": [
      "N\n",
      "a\n",
      "m\n",
      "e\n",
      "N\n",
      "a\n",
      "m\n",
      "e\n"
     ]
    }
   ],
   "source": [
    "name = input(\"Type name: \")\n",
    "number = int(input(\"Type number: \"))\n",
    "\n",
    "for j in range(number):\n",
    "    for i in name:\n",
    "        print(i)"
   ]
  },
  {
   "cell_type": "markdown",
   "id": "0761b96d-1fd3-4b45-942e-c7cb2a601279",
   "metadata": {},
   "source": [
    "# №39"
   ]
  },
  {
   "cell_type": "code",
   "execution_count": 10,
   "id": "d3fe2fda-ac9d-4234-a0dc-6bb88c0472a7",
   "metadata": {},
   "outputs": [
    {
     "name": "stdin",
     "output_type": "stream",
     "text": [
      "Type number in range from 1 to 12:  3\n"
     ]
    },
    {
     "name": "stdout",
     "output_type": "stream",
     "text": [
      "3*1=3\n",
      "3*2=6\n",
      "3*3=9\n",
      "3*4=12\n",
      "3*5=15\n",
      "3*6=18\n",
      "3*7=21\n",
      "3*8=24\n",
      "3*9=27\n",
      "3*10=30\n"
     ]
    }
   ],
   "source": [
    "number = int(input(\"Type number in range from 1 to 12: \"))\n",
    "\n",
    "for i in range (1, 11):\n",
    "    result = number * i\n",
    "    print(str(number)+\"*\"+str(i)+\"=\"+str(result))"
   ]
  },
  {
   "cell_type": "markdown",
   "id": "9dd22935-7f54-48e9-9bdb-db1699f5fa86",
   "metadata": {},
   "source": [
    "# №40"
   ]
  },
  {
   "cell_type": "code",
   "execution_count": 4,
   "id": "a09763ec-ce5f-4161-91c5-7ec36c10cf96",
   "metadata": {},
   "outputs": [
    {
     "name": "stdin",
     "output_type": "stream",
     "text": [
      "Type number un range from 0 to 50:  8\n"
     ]
    },
    {
     "name": "stdout",
     "output_type": "stream",
     "text": [
      "8\n",
      "7\n",
      "6\n",
      "5\n",
      "4\n",
      "3\n",
      "2\n",
      "1\n"
     ]
    }
   ],
   "source": [
    "number = int(input(\"Type number un range from 0 to 50: \"))\n",
    "\n",
    "for i in range(number):\n",
    "    print(number)\n",
    "    number -= 1"
   ]
  },
  {
   "cell_type": "markdown",
   "id": "15df1d08-19e2-41b4-beeb-78ee31c4e597",
   "metadata": {},
   "source": [
    "# №41"
   ]
  },
  {
   "cell_type": "code",
   "execution_count": 6,
   "id": "324878db-84d3-42de-bafd-c0448d0935dd",
   "metadata": {},
   "outputs": [
    {
     "name": "stdin",
     "output_type": "stream",
     "text": [
      "Type your name:  Castus\n",
      "Type number in range from 0 to 10:  12\n"
     ]
    },
    {
     "name": "stdout",
     "output_type": "stream",
     "text": [
      "Too high!\n",
      "Too high!\n",
      "Too high!\n"
     ]
    }
   ],
   "source": [
    "name = input(\"Type your name: \")\n",
    "number = int(input(\"Type number in range from 0 to 10: \"))\n",
    "length = len(name)\n",
    "\n",
    "if number < 10:\n",
    "    for i in range(number):\n",
    "        print(name)\n",
    "else:\n",
    "    for i in range(3):\n",
    "        print(\"Too high!\")"
   ]
  },
  {
   "cell_type": "markdown",
   "id": "5896af02-8208-48de-93b6-57e2d372884a",
   "metadata": {},
   "source": [
    "# №42"
   ]
  },
  {
   "cell_type": "code",
   "execution_count": 10,
   "id": "d7c13fec-384c-4441-93c3-886a3635363b",
   "metadata": {},
   "outputs": [
    {
     "name": "stdin",
     "output_type": "stream",
     "text": [
      "Type number one:  4\n",
      "Would you like to add number one? (y or n) n\n",
      "Type number two:  7\n",
      "Would you like to add number two? (y or n) n\n",
      "Type number three:  4\n",
      "Would you like to add number three? (y or n) y\n",
      "Type number four:  8\n",
      "Would you like to add number four? (y or n) y\n",
      "Type number five:  15\n",
      "Would you like to add number five? (y or n) n\n"
     ]
    },
    {
     "name": "stdout",
     "output_type": "stream",
     "text": [
      "Result:12\n"
     ]
    }
   ],
   "source": [
    "total = 0\n",
    "\n",
    "number1 = int(input(\"Type number one: \"))\n",
    "q1 = input(\"Would you like to add number one? (y or n)\")\n",
    "\n",
    "if q1 == \"y\":\n",
    "    total = total + number1\n",
    "\n",
    "number2 = int(input(\"Type number two: \"))\n",
    "q2 = input(\"Would you like to add number two? (y or n)\")\n",
    "\n",
    "if q2 == \"y\":\n",
    "    total = total + number2\n",
    "    \n",
    "number3 = int(input(\"Type number three: \"))\n",
    "q3 = input(\"Would you like to add number three? (y or n)\")\n",
    "\n",
    "if q3 == \"y\":\n",
    "    total = total + number3\n",
    "    \n",
    "number4 = int(input(\"Type number four: \"))\n",
    "q4 = input(\"Would you like to add number four? (y or n)\")\n",
    "\n",
    "if q4 == \"y\":\n",
    "    total = total + number4\n",
    "    \n",
    "number5 = int(input(\"Type number five: \"))\n",
    "q5 = input(\"Would you like to add number five? (y or n)\")\n",
    "\n",
    "if q5 == \"y\":\n",
    "    total = total + number5\n",
    "\n",
    "print(\"Result:\" + str(total))"
   ]
  },
  {
   "cell_type": "markdown",
   "id": "6bf472c1-0e77-48cb-b580-58dc8487de83",
   "metadata": {},
   "source": [
    "# №43"
   ]
  },
  {
   "cell_type": "code",
   "execution_count": 21,
   "id": "3869f7c0-1848-4abe-8c82-34109935d86c",
   "metadata": {},
   "outputs": [
    {
     "name": "stdin",
     "output_type": "stream",
     "text": [
      "Type 'f' for forward and 'r' for reverse:  r\n",
      "Type number to 20:  14\n"
     ]
    },
    {
     "name": "stdout",
     "output_type": "stream",
     "text": [
      "20\n",
      "19\n",
      "18\n",
      "17\n",
      "16\n",
      "15\n"
     ]
    }
   ],
   "source": [
    "Choice = input(\"Type 'f' for forward and 'r' for reverse: \")\n",
    "\n",
    "if Choice == \"f\":\n",
    "    number = int(input(\"Type number: \"))\n",
    "\n",
    "    for i in range(number):\n",
    "        print(i)\n",
    "\n",
    "elif Choice == \"r\":\n",
    "    number = int(input(\"Type number to 20: \"))\n",
    "    bond = 20\n",
    "\n",
    "    for i in range(20):\n",
    "        print(bond)\n",
    "        bond -= 1\n",
    "        if bond == number:\n",
    "            break\n",
    "else:\n",
    "    print(\"I don’t understand\")"
   ]
  },
  {
   "cell_type": "markdown",
   "id": "e1b63f14-87c5-4de3-bae9-5a13e54b2b03",
   "metadata": {},
   "source": [
    "# №44"
   ]
  },
  {
   "cell_type": "code",
   "execution_count": 1,
   "id": "35f5ba03-82eb-41a6-aad7-47013b95803f",
   "metadata": {},
   "outputs": [
    {
     "name": "stdout",
     "output_type": "stream",
     "text": [
      "Сколько людей вы бы хотели пригласить? 3\n",
      "\n",
      "Наберите имя гостя: Petr\n",
      "\n",
      "Petr, успешно приглашён!\n",
      "\n",
      "Наберите имя гостя: Jane\n",
      "\n",
      "Jane, успешно приглашён!\n",
      "\n",
      "Наберите имя гостя: Fide\n",
      "\n",
      "Fide, успешно приглашён!\n"
     ]
    }
   ],
   "source": [
    "people = int(input(\"Сколько людей вы бы хотели пригласить? \"))\n",
    "\n",
    "if people < 10:\n",
    "    \n",
    "    for person in range(people):\n",
    "        \n",
    "        person_name = input(\"\\nНаберите имя гостя: \")\n",
    "    \n",
    "        print(\"\\n\" + person_name + \", успешно приглашён!\")\n",
    "    \n",
    "else:\n",
    "    \n",
    "    print(\"\\nСлишком много людей!\")"
   ]
  },
  {
   "cell_type": "code",
   "execution_count": null,
   "id": "540914dc",
   "metadata": {},
   "outputs": [],
   "source": []
  }
 ],
 "metadata": {
  "kernelspec": {
   "display_name": "Python 3 (ipykernel)",
   "language": "python",
   "name": "python3"
  },
  "language_info": {
   "codemirror_mode": {
    "name": "ipython",
    "version": 3
   },
   "file_extension": ".py",
   "mimetype": "text/x-python",
   "name": "python",
   "nbconvert_exporter": "python",
   "pygments_lexer": "ipython3",
   "version": "3.11.5"
  }
 },
 "nbformat": 4,
 "nbformat_minor": 5
}
