{
 "cells": [
  {
   "cell_type": "markdown",
   "id": "b54e916e-86f1-42d4-84c5-345a022fe37d",
   "metadata": {},
   "source": [
    "# 45"
   ]
  },
  {
   "cell_type": "code",
   "execution_count": 2,
   "id": "77c21847-6fa2-42c8-b198-5eb3eac6933a",
   "metadata": {},
   "outputs": [
    {
     "name": "stdin",
     "output_type": "stream",
     "text": [
      "Type number:  43\n"
     ]
    },
    {
     "name": "stdout",
     "output_type": "stream",
     "text": [
      "Total is 43.0\n"
     ]
    },
    {
     "name": "stdin",
     "output_type": "stream",
     "text": [
      "Type number:  6\n"
     ]
    },
    {
     "name": "stdout",
     "output_type": "stream",
     "text": [
      "Total is 49.0\n"
     ]
    },
    {
     "name": "stdin",
     "output_type": "stream",
     "text": [
      "Type number:  3\n"
     ]
    },
    {
     "name": "stdout",
     "output_type": "stream",
     "text": [
      "Total is 52.0\n"
     ]
    }
   ],
   "source": [
    "total = 0\n",
    "\n",
    "while total <= 50:\n",
    "    number = float(input(\"Type number: \"))\n",
    "    total = total + number\n",
    "    print(\"Total is \" + str(total))"
   ]
  },
  {
   "cell_type": "markdown",
   "id": "f3322cad-dff9-46c9-84e7-332bb0526137",
   "metadata": {},
   "source": [
    "# 46"
   ]
  },
  {
   "cell_type": "code",
   "execution_count": 8,
   "id": "d1701bdd-1a86-4607-bc77-a3f15c119d53",
   "metadata": {},
   "outputs": [
    {
     "name": "stdin",
     "output_type": "stream",
     "text": [
      "Type number:  3\n",
      "Type number:  4\n",
      "Type number:  7\n"
     ]
    },
    {
     "name": "stdout",
     "output_type": "stream",
     "text": [
      "The last number you entered was a 7.0\n"
     ]
    }
   ],
   "source": [
    "value = 0\n",
    "\n",
    "while value <5:\n",
    "    set = float(input(\"Type number: \"))\n",
    "    value = set\n",
    "\n",
    "print(\"The last number you entered was a \" + str(value))"
   ]
  },
  {
   "cell_type": "markdown",
   "id": "361a3a5b-5311-45ac-b603-8b9b4b224329",
   "metadata": {},
   "source": [
    "# 47"
   ]
  },
  {
   "cell_type": "code",
   "execution_count": 10,
   "id": "ca0fe3c2-e541-488f-8b09-f33cae6a5817",
   "metadata": {},
   "outputs": [
    {
     "name": "stdin",
     "output_type": "stream",
     "text": [
      "Type number 1:  3\n",
      "Type number 2:  4\n",
      "Would you like to add one more? (y or n) y\n",
      "Type number x:  3\n",
      "Would you like to add one more? (y or n) y\n",
      "Type number x:  5\n",
      "Would you like to add one more? (y or n) n\n"
     ]
    },
    {
     "name": "stdout",
     "output_type": "stream",
     "text": [
      "The final is: 15.0\n"
     ]
    }
   ],
   "source": [
    "number1 = float(input(\"Type number 1: \"))\n",
    "number2 = float(input(\"Type number 2: \"))\n",
    "\n",
    "number_final = number1 + number2\n",
    "\n",
    "answer = input(\"Would you like to add one more? (y or n)\")\n",
    "\n",
    "while answer == \"y\":\n",
    "    \n",
    "    numberx = float(input(\"Type number x: \"))\n",
    "    number_final = number_final + numberx\n",
    "    answer = input(\"Would you like to add one more? (y or n)\")\n",
    "\n",
    "print(\"The final is: \" + str(number_final))"
   ]
  },
  {
   "cell_type": "markdown",
   "id": "5f1caec8-7bf2-446a-a8c5-37e4b7c19449",
   "metadata": {},
   "source": [
    "# 48"
   ]
  },
  {
   "cell_type": "code",
   "execution_count": 12,
   "id": "4a239adc-922e-480d-b319-8faa6b268d7f",
   "metadata": {},
   "outputs": [
    {
     "name": "stdin",
     "output_type": "stream",
     "text": [
      "Type name x:  First\n"
     ]
    },
    {
     "name": "stdout",
     "output_type": "stream",
     "text": [
      "First has been invited\n"
     ]
    },
    {
     "name": "stdin",
     "output_type": "stream",
     "text": [
      "Would you like to add someone more? (y or n) y\n",
      "Type name x:  Second\n"
     ]
    },
    {
     "name": "stdout",
     "output_type": "stream",
     "text": [
      "Second has been invited\n"
     ]
    },
    {
     "name": "stdin",
     "output_type": "stream",
     "text": [
      "Would you like to add someone more? (y or n) n\n"
     ]
    },
    {
     "name": "stdout",
     "output_type": "stream",
     "text": [
      "Total: 2\n"
     ]
    }
   ],
   "source": [
    "guests = 0\n",
    "\n",
    "namex = input(\"Type name x: \")\n",
    "print(namex + \" has been invited\")\n",
    "guests = guests + 1\n",
    "\n",
    "answer = input(\"Would you like to add someone more? (y or n)\")\n",
    "\n",
    "while answer == \"y\":\n",
    "    namex = input(\"Type name x: \")\n",
    "    print(namex + \" has been invited\")\n",
    "    guests = guests + 1\n",
    "    answer = input(\"Would you like to add someone more? (y or n)\")\n",
    "\n",
    "print(\"Total: \" + str(guests))"
   ]
  },
  {
   "cell_type": "markdown",
   "id": "1bf1f46a-550f-4af3-8472-7f8f037e4337",
   "metadata": {},
   "source": [
    "# 49"
   ]
  },
  {
   "cell_type": "code",
   "execution_count": 40,
   "id": "a7989f73-a6b0-4d6b-b1b8-73b6508dfe8f",
   "metadata": {},
   "outputs": [
    {
     "name": "stdin",
     "output_type": "stream",
     "text": [
      "Type number:  23\n"
     ]
    },
    {
     "name": "stdout",
     "output_type": "stream",
     "text": [
      "Compnum greater than number\n"
     ]
    },
    {
     "name": "stdin",
     "output_type": "stream",
     "text": [
      "Would you like to try again? (y or n)  y\n",
      "Type number:  106\n"
     ]
    },
    {
     "name": "stdout",
     "output_type": "stream",
     "text": [
      "Compnum is less than number\n"
     ]
    },
    {
     "name": "stdin",
     "output_type": "stream",
     "text": [
      "Would you like to try again? (y or n)  y\n",
      "Type number:  50\n"
     ]
    },
    {
     "name": "stdout",
     "output_type": "stream",
     "text": [
      "Well done, you took 3 attempts\n"
     ]
    }
   ],
   "source": [
    "compnum = 50\n",
    "number = 0\n",
    "counter = 0\n",
    "\n",
    "while number != compnum:\n",
    "    \n",
    "    number = int(input(\"Type number: \"))\n",
    "    counter = counter + 1\n",
    "    \n",
    "    if compnum > number:\n",
    "        print(\"Compnum greater than number\")\n",
    "        answer = input (\"Would you like to try again? (y or n) \")\n",
    "        if answer != \"y\":\n",
    "            break\n",
    "\n",
    "    elif compnum == number:\n",
    "        break\n",
    "        \n",
    "    else:\n",
    "        print(\"Compnum is less than number\")\n",
    "        answer = input (\"Would you like to try again? (y or n) \")\n",
    "        if answer != \"y\":\n",
    "            break\n",
    "\n",
    "if number == compnum:\n",
    "    print(\"Well done, you took \" + str(counter) + \" attempts\")\n",
    "\n",
    "else:\n",
    "    print(\"Didn't succeed but \" + str(counter) + \" attempts taken\")"
   ]
  },
  {
   "cell_type": "markdown",
   "id": "41808abb-f4cf-4874-8be5-9f51665fbea1",
   "metadata": {},
   "source": [
    "# 50"
   ]
  },
  {
   "cell_type": "code",
   "execution_count": 41,
   "id": "a94f2c39-cb3d-4cc1-bf9f-9000d11ee28b",
   "metadata": {},
   "outputs": [
    {
     "name": "stdin",
     "output_type": "stream",
     "text": [
      "Type number from 10 to 20:  4\n"
     ]
    },
    {
     "name": "stdout",
     "output_type": "stream",
     "text": [
      "Too low\n"
     ]
    },
    {
     "name": "stdin",
     "output_type": "stream",
     "text": [
      "Would you like to try again? (y or n)  y\n",
      "Type number from 10 to 20:  24\n"
     ]
    },
    {
     "name": "stdout",
     "output_type": "stream",
     "text": [
      "Too high\n"
     ]
    },
    {
     "name": "stdin",
     "output_type": "stream",
     "text": [
      "Would you like to try again? (y or n)  y\n",
      "Type number from 10 to 20:  15\n"
     ]
    },
    {
     "name": "stdout",
     "output_type": "stream",
     "text": [
      "Thank you\n"
     ]
    }
   ],
   "source": [
    "number = int(input(\"Type number from 10 to 20: \"))\n",
    "\n",
    "while not 10 <= number <= 20:\n",
    "\n",
    "    if number < 10:\n",
    "        print(\"Too low\")\n",
    "\n",
    "    elif number > 20:\n",
    "        print(\"Too high\")\n",
    "\n",
    "    answer = input(\"Would you like to try again? (y or n) \")\n",
    "\n",
    "    if answer != \"y\":\n",
    "        print(\"Bye!\")\n",
    "        break\n",
    "\n",
    "    number = int(input(\"Type number from 10 to 20: \"))\n",
    "        \n",
    "if 10 <= number <= 20:\n",
    "    print(\"Thank you\")"
   ]
  },
  {
   "cell_type": "markdown",
   "id": "56b18d85-6ae8-4828-9deb-1b35f7da93fd",
   "metadata": {},
   "source": [
    "# 51"
   ]
  },
  {
   "cell_type": "code",
   "execution_count": 44,
   "id": "1b199831-ab4e-42d4-889f-fa677f4b8da9",
   "metadata": {},
   "outputs": [
    {
     "name": "stdout",
     "output_type": "stream",
     "text": [
      "There are 5 green bottles hanging on the wall\n",
      "5 green bottles hanging on the wall\n",
      "and if 1 green bottle should accidentally fall\n"
     ]
    },
    {
     "name": "stdin",
     "output_type": "stream",
     "text": [
      "How many green bottles will be hanging on the wall?  4\n"
     ]
    },
    {
     "name": "stdout",
     "output_type": "stream",
     "text": [
      "There will be 4 green bottles hanging on the wall\n",
      "There are 4 green bottles hanging on the wall\n",
      "4 green bottles hanging on the wall\n",
      "and if 1 green bottle should accidentally fall\n"
     ]
    },
    {
     "name": "stdin",
     "output_type": "stream",
     "text": [
      "How many green bottles will be hanging on the wall?  5\n"
     ]
    },
    {
     "name": "stdout",
     "output_type": "stream",
     "text": [
      "No, try again\n",
      "There are 3 green bottles hanging on the wall\n",
      "3 green bottles hanging on the wall\n",
      "and if 1 green bottle should accidentally fall\n"
     ]
    },
    {
     "name": "stdin",
     "output_type": "stream",
     "text": [
      "How many green bottles will be hanging on the wall?  2\n"
     ]
    },
    {
     "name": "stdout",
     "output_type": "stream",
     "text": [
      "There will be 2 green bottles hanging on the wall\n",
      "There are 2 green bottles hanging on the wall\n",
      "2 green bottles hanging on the wall\n",
      "and if 1 green bottle should accidentally fall\n"
     ]
    },
    {
     "name": "stdin",
     "output_type": "stream",
     "text": [
      "How many green bottles will be hanging on the wall?  1\n"
     ]
    },
    {
     "name": "stdout",
     "output_type": "stream",
     "text": [
      "There will be 1 green bottles hanging on the wall\n",
      "There are 1 green bottles hanging on the wall\n",
      "1 green bottles hanging on the wall\n",
      "and if 1 green bottle should accidentally fall\n"
     ]
    },
    {
     "name": "stdin",
     "output_type": "stream",
     "text": [
      "How many green bottles will be hanging on the wall?  0\n"
     ]
    },
    {
     "name": "stdout",
     "output_type": "stream",
     "text": [
      "There will be 0 green bottles hanging on the wall\n",
      "There are no more green bottles hanging on the wall\n"
     ]
    }
   ],
   "source": [
    "counter = 5\n",
    "\n",
    "while counter > 0:\n",
    "\n",
    "    print(\"There are {} green bottles hanging on the wall\".format(counter))\n",
    "    print(\"{} green bottles hanging on the wall\".format(counter))\n",
    "    print(\"and if 1 green bottle should accidentally fall\")\n",
    "\n",
    "    counter = counter - 1\n",
    "\n",
    "    number = int(input(\"How many green bottles will be hanging on the wall? \"))\n",
    "\n",
    "    if number == counter:\n",
    "\n",
    "        print(\"There will be {} green bottles hanging on the wall\".format(counter))\n",
    "\n",
    "    else:\n",
    "        print(\"No, try again\")\n",
    "\n",
    "print(\"There are no more green bottles hanging on the wall\")"
   ]
  },
  {
   "cell_type": "code",
   "execution_count": null,
   "id": "f36820d4-229a-41b8-b137-42828ec2da2d",
   "metadata": {},
   "outputs": [],
   "source": []
  }
 ],
 "metadata": {
  "kernelspec": {
   "display_name": "Python 3 (ipykernel)",
   "language": "python",
   "name": "python3"
  },
  "language_info": {
   "codemirror_mode": {
    "name": "ipython",
    "version": 3
   },
   "file_extension": ".py",
   "mimetype": "text/x-python",
   "name": "python",
   "nbconvert_exporter": "python",
   "pygments_lexer": "ipython3",
   "version": "3.12.0"
  }
 },
 "nbformat": 4,
 "nbformat_minor": 5
}
