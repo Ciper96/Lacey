{
 "cells": [
  {
   "cell_type": "code",
   "execution_count": 26,
   "id": "0876ec40-3a02-4b44-94eb-200c7f589a47",
   "metadata": {},
   "outputs": [],
   "source": [
    "import turtle\n",
    "\n",
    "turtle.shape(\"turtle\")\n",
    "\n",
    "for i in range (0, 5):\n",
    "    turtle.forward(100)\n",
    "    turtle.right(72)\n",
    "\n",
    "turtle.exitonclick()"
   ]
  },
  {
   "cell_type": "code",
   "execution_count": 36,
   "id": "d37dbc1d-50e2-4b75-806e-4b0f57301fe0",
   "metadata": {},
   "outputs": [],
   "source": [
    "import turtle\n",
    "\n",
    "for i in range (0, 10):\n",
    "    turtle.right(36)\n",
    "    for i in range(0, 5):\n",
    "        turtle.forward(100)\n",
    "        turtle.right(72)\n",
    "\n",
    "turtle.exitonclick()"
   ]
  },
  {
   "cell_type": "markdown",
   "id": "22843b33-d6ff-4c6e-97ac-42b4a3a0656d",
   "metadata": {},
   "source": [
    "# 60"
   ]
  },
  {
   "cell_type": "code",
   "execution_count": null,
   "id": "75d484ec-a7c6-49e1-bea9-c275b6174b9b",
   "metadata": {},
   "outputs": [],
   "source": [
    "import turtle\n",
    "\n",
    "for i in range (4):\n",
    "    turtle.right(90)\n",
    "    turtle.forward(100)\n",
    "\n",
    "turtle.exitonclick()"
   ]
  },
  {
   "cell_type": "markdown",
   "id": "08641a5c-cced-426f-94db-67f2570a3149",
   "metadata": {},
   "source": [
    "# 61"
   ]
  },
  {
   "cell_type": "code",
   "execution_count": null,
   "id": "5d07db85-c14b-4815-9331-714d46e66de8",
   "metadata": {},
   "outputs": [],
   "source": [
    "import turtle\n",
    "\n",
    "for i in range(3):\n",
    "    turtle.forward(100)\n",
    "    turtle.left(120)\n",
    "\n",
    "turtle.exitonclick()"
   ]
  },
  {
   "cell_type": "markdown",
   "id": "2d23f593-133a-4fa4-982c-ce12f742a6af",
   "metadata": {},
   "source": [
    "# 62"
   ]
  },
  {
   "cell_type": "code",
   "execution_count": 9,
   "id": "35094643-34dc-417e-9d1b-e22ebe348368",
   "metadata": {},
   "outputs": [],
   "source": [
    "import turtle\n",
    "\n",
    "for i in range(360):\n",
    "    turtle.right(1)\n",
    "    turtle.forward(1)\n",
    "\n",
    "turtle.exitonclick()"
   ]
  },
  {
   "cell_type": "markdown",
   "id": "fa3e03b3",
   "metadata": {},
   "source": [
    "# 63"
   ]
  },
  {
   "cell_type": "code",
   "execution_count": 1,
   "id": "a3d2f4aa",
   "metadata": {},
   "outputs": [],
   "source": [
    "import turtle\n",
    "\n",
    "def square():\n",
    "    turtle.pendown()\n",
    "    turtle.begin_fill()\n",
    "    turtle.color(\"black\", \"green\")\n",
    "    for i in range (4):\n",
    "        turtle.right(90)\n",
    "        turtle.forward(100)\n",
    "    turtle.end_fill()\n",
    "\n",
    "square()\n",
    "turtle.penup()\n",
    "turtle.forward(200)\n",
    "square()\n",
    "turtle.penup()\n",
    "turtle.forward(200)\n",
    "square()\n",
    "\n",
    "\n",
    "turtle.exitonclick()"
   ]
  },
  {
   "cell_type": "markdown",
   "id": "147f3e86",
   "metadata": {},
   "source": [
    "# 64"
   ]
  },
  {
   "cell_type": "code",
   "execution_count": 23,
   "id": "34dbf373",
   "metadata": {},
   "outputs": [],
   "source": [
    "import turtle\n",
    "\n",
    "for i in range (5):\n",
    "    turtle.forward(100)\n",
    "    turtle.right(144)\n",
    "\n",
    "\n",
    "turtle.exitonclick()"
   ]
  },
  {
   "cell_type": "markdown",
   "id": "a6709a58",
   "metadata": {},
   "source": [
    "# 65"
   ]
  },
  {
   "cell_type": "code",
   "execution_count": 37,
   "id": "efe35fbe",
   "metadata": {},
   "outputs": [],
   "source": [
    "import turtle\n",
    "\n",
    "def one():\n",
    "    turtle.right(270)\n",
    "    turtle.forward(100)\n",
    "    turtle.right(90)\n",
    "\n",
    "def next():\n",
    "    turtle.penup()\n",
    "    turtle.forward(30)\n",
    "    turtle.pendown()\n",
    "    \n",
    "def two():\n",
    "    turtle.forward(75)\n",
    "    turtle.right(90)\n",
    "    turtle.forward(50)\n",
    "    turtle.right(90)\n",
    "    turtle.forward(75)\n",
    "    turtle.left(90)\n",
    "    turtle.forward(50)\n",
    "    turtle.left(90)\n",
    "    turtle.forward(75)\n",
    "    \n",
    "def three():\n",
    "    turtle.forward(75)\n",
    "    turtle.left(90)\n",
    "    turtle.forward(50)\n",
    "    turtle.left(90)\n",
    "    turtle.forward(65)\n",
    "    turtle.left(180)\n",
    "    turtle.forward(65)\n",
    "    turtle.left(90)\n",
    "    turtle.forward(50)\n",
    "    turtle.left(90)\n",
    "    turtle.forward(75)\n",
    "\n",
    "one()\n",
    "next()\n",
    "two()\n",
    "next()\n",
    "three()\n",
    "\n",
    "turtle.exitonclick()"
   ]
  },
  {
   "cell_type": "markdown",
   "id": "d5d37205",
   "metadata": {},
   "source": [
    "# 66"
   ]
  },
  {
   "cell_type": "code",
   "execution_count": 47,
   "id": "d03340b5",
   "metadata": {},
   "outputs": [],
   "source": [
    "import turtle\n",
    "import random\n",
    "\n",
    "colours = [\"black\", \"yellow\", \"red\", \"blue\", \"green\", \"brown\"]\n",
    "\n",
    "for i in range (8):\n",
    "    turtle.color(random.choice(colours))\n",
    "    turtle.left(45)\n",
    "    turtle.forward(50)\n",
    "\n",
    "turtle.exitonclick()"
   ]
  },
  {
   "cell_type": "markdown",
   "id": "dae87100",
   "metadata": {},
   "source": [
    "# 67"
   ]
  },
  {
   "cell_type": "code",
   "execution_count": 7,
   "id": "4a07b560",
   "metadata": {},
   "outputs": [],
   "source": [
    "import turtle\n",
    "import random\n",
    "\n",
    "colours = [\"black\", \"yellow\", \"red\", \"blue\", \"green\", \"brown\"]\n",
    "\n",
    "for x in range(10):\n",
    "    for i in range(8):\n",
    "        turtle.color(random.choice(colours))\n",
    "        turtle.left(45)\n",
    "        turtle.forward(50)\n",
    "        \n",
    "    turtle.right(36)\n",
    "\n",
    "turtle.hideturtle()\n",
    "\n",
    "turtle.exitonclick()"
   ]
  },
  {
   "cell_type": "markdown",
   "id": "1cfb4980",
   "metadata": {},
   "source": [
    "# 68"
   ]
  },
  {
   "cell_type": "code",
   "execution_count": 24,
   "id": "801825af",
   "metadata": {},
   "outputs": [],
   "source": [
    "import turtle\n",
    "import random\n",
    "\n",
    "for i in range (random.randint(10, 40)):\n",
    "    turtle.left(random.randint(30, 60))\n",
    "    turtle.forward(random.randint(30, 50))\n",
    "    \n",
    "turtle.exitonclick()"
   ]
  },
  {
   "cell_type": "code",
   "execution_count": null,
   "id": "84e9d900",
   "metadata": {},
   "outputs": [],
   "source": []
  }
 ],
 "metadata": {
  "kernelspec": {
   "display_name": "Python 3 (ipykernel)",
   "language": "python",
   "name": "python3"
  },
  "language_info": {
   "codemirror_mode": {
    "name": "ipython",
    "version": 3
   },
   "file_extension": ".py",
   "mimetype": "text/x-python",
   "name": "python",
   "nbconvert_exporter": "python",
   "pygments_lexer": "ipython3",
   "version": "3.11.5"
  }
 },
 "nbformat": 4,
 "nbformat_minor": 5
}
