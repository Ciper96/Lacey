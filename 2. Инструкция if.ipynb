{
 "cells": [
  {
   "cell_type": "markdown",
   "id": "b350fe06",
   "metadata": {},
   "source": [
    "# №12."
   ]
  },
  {
   "cell_type": "code",
   "execution_count": 1,
   "id": "47e9b881",
   "metadata": {},
   "outputs": [
    {
     "name": "stdout",
     "output_type": "stream",
     "text": [
      "Наберите первое число: 124\n",
      "Наберите второе число: 24\n",
      "24.0 124.0\n"
     ]
    }
   ],
   "source": [
    "number1 = float(input(\"Наберите первое число: \"))\n",
    "number2 = float(input(\"Наберите второе число: \"))\n",
    "\n",
    "if number1 > number2:\n",
    "    print(number2, number1)\n",
    "else:\n",
    "    print(number1, number2)"
   ]
  },
  {
   "cell_type": "markdown",
   "id": "8f326bcb",
   "metadata": {},
   "source": [
    "# №13."
   ]
  },
  {
   "cell_type": "code",
   "execution_count": 1,
   "id": "75c903bd",
   "metadata": {},
   "outputs": [
    {
     "name": "stdout",
     "output_type": "stream",
     "text": [
      "Напишите число, которое меньше 20: 14\n",
      "Молодец, спасибо.\n"
     ]
    }
   ],
   "source": [
    "число = int(input(\"Напишите число, которое меньше 20: \"))\n",
    "if число >= 20:\n",
    "    print(\"Слишком большое число.\")\n",
    "else:\n",
    "    print(\"Молодец, спасибо.\")"
   ]
  },
  {
   "cell_type": "markdown",
   "id": "55adf8d3",
   "metadata": {},
   "source": [
    "# №14."
   ]
  },
  {
   "cell_type": "code",
   "execution_count": 2,
   "id": "c04f2b75",
   "metadata": {},
   "outputs": [
    {
     "name": "stdout",
     "output_type": "stream",
     "text": [
      "Введите число от 10 до 20 включительно: 14\n",
      "Спасибо\n"
     ]
    }
   ],
   "source": [
    "чиселко = int(input(\"Введите число от 10 до 20 включительно: \"))\n",
    "if чиселко > 10:\n",
    "    if чиселко <= 20:\n",
    "        print(\"Спасибо\")\n",
    "    else:\n",
    "        print(\"Не соответствует условию\")\n",
    "else:\n",
    "    print(\"Не соответствует условию\")"
   ]
  },
  {
   "cell_type": "markdown",
   "id": "cd6b6b1d",
   "metadata": {},
   "source": [
    "# №15."
   ]
  },
  {
   "cell_type": "code",
   "execution_count": 14,
   "id": "09209b1b",
   "metadata": {},
   "outputs": [
    {
     "name": "stdout",
     "output_type": "stream",
     "text": [
      "Напишите ваш любимый цвет: зелубой\n",
      "А мне зелубой не нравится. Я предпочитаю красный.\n"
     ]
    }
   ],
   "source": [
    "цвет = input(\"Напишите ваш любимый цвет: \")\n",
    "if цвет == \"Красный\" or цвет == \"красный\" or цвет == \"КРАСНЫЙ\":\n",
    "    print(\"Мне тоже нравится красный!\")\n",
    "else:\n",
    "    print(\"А мне {} не нравится. Я предпочитаю красный.\".format(цвет))"
   ]
  },
  {
   "cell_type": "markdown",
   "id": "531ec1db",
   "metadata": {},
   "source": [
    "# №16."
   ]
  },
  {
   "cell_type": "code",
   "execution_count": 17,
   "id": "cedca059",
   "metadata": {},
   "outputs": [
    {
     "name": "stdout",
     "output_type": "stream",
     "text": [
      "Сейчас на улице идёт дождь? да\n",
      "А сейчас на улице ветрено? нет\n",
      "Возьмите зонт.\n"
     ]
    }
   ],
   "source": [
    "дождь = input(\"Сейчас на улице идёт дождь? \")\n",
    "дождь_ответ = дождь.lower()\n",
    "if дождь_ответ == \"да\":\n",
    "    ветер = input(\"А сейчас на улице ветрено? \")\n",
    "    ветер_ответ = ветер.lower()\n",
    "    if ветер_ответ == \"да\":\n",
    "        print(\"Ветрено для зонта.\")\n",
    "    else:\n",
    "        print(\"Возьмите зонт.\")\n",
    "else:\n",
    "    print(\"Наслаждайтесь прекрасной погодой :)\")"
   ]
  },
  {
   "cell_type": "markdown",
   "id": "094cf0cb",
   "metadata": {},
   "source": [
    "# №17."
   ]
  },
  {
   "cell_type": "code",
   "execution_count": 21,
   "id": "acb8ff4b",
   "metadata": {},
   "outputs": [
    {
     "name": "stdout",
     "output_type": "stream",
     "text": [
      "Введите ваш возраст: 25\n",
      "Вы можете голосовать!\n"
     ]
    }
   ],
   "source": [
    "age = int(input(\"Введите ваш возраст: \"))\n",
    "if age >= 18:\n",
    "    print(\"Вы можете голосовать!\")\n",
    "elif age == 17:\n",
    "    print(\"Вы можете учиться на права!\")\n",
    "elif age == 16:\n",
    "    print(\"Вы можете купить лотерейный билет!\")\n",
    "elif age < 16:\n",
    "    print(\"Вы можете просить конфетки в Хэллоуин!\")"
   ]
  },
  {
   "cell_type": "markdown",
   "id": "6112f891",
   "metadata": {},
   "source": [
    "# №18."
   ]
  },
  {
   "cell_type": "code",
   "execution_count": 25,
   "id": "55737b0b",
   "metadata": {},
   "outputs": [
    {
     "name": "stdout",
     "output_type": "stream",
     "text": [
      "Введите число: 14\n",
      "Верно!\n"
     ]
    }
   ],
   "source": [
    "number = float(input(\"Введите число: \"))\n",
    "if number < 10:\n",
    "    print(\"Слишком маленькое число!\")\n",
    "elif 10 < number < 20:\n",
    "    print(\"Верно!\")\n",
    "else:\n",
    "    print(\"Слишком большое число!\")"
   ]
  },
  {
   "cell_type": "markdown",
   "id": "771f12ab",
   "metadata": {},
   "source": [
    "# №19."
   ]
  },
  {
   "cell_type": "code",
   "execution_count": 30,
   "id": "a06c40eb",
   "metadata": {},
   "outputs": [
    {
     "name": "stdout",
     "output_type": "stream",
     "text": [
      "Введите 1, 2 или 3: 2\n",
      "Ништяк\n"
     ]
    }
   ],
   "source": [
    "number = int(input(\"Введите 1, 2 или 3: \"))\n",
    "if number == 1:\n",
    "    print(\"Спасибочки\")\n",
    "elif number == 2:\n",
    "    print(\"Ништяк\")\n",
    "elif number == 3:\n",
    "    print(\"Ошибка!\")\n",
    "else:\n",
    "    print(\"Неверное значение!\")"
   ]
  },
  {
   "cell_type": "code",
   "execution_count": null,
   "id": "cad2d7ec",
   "metadata": {},
   "outputs": [],
   "source": []
  }
 ],
 "metadata": {
  "kernelspec": {
   "display_name": "Python 3 (ipykernel)",
   "language": "python",
   "name": "python3"
  },
  "language_info": {
   "codemirror_mode": {
    "name": "ipython",
    "version": 3
   },
   "file_extension": ".py",
   "mimetype": "text/x-python",
   "name": "python",
   "nbconvert_exporter": "python",
   "pygments_lexer": "ipython3",
   "version": "3.11.5"
  }
 },
 "nbformat": 4,
 "nbformat_minor": 5
}
