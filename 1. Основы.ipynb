{
 "cells": [
  {
   "cell_type": "markdown",
   "id": "ca730e3e",
   "metadata": {},
   "source": [
    "# №1."
   ]
  },
  {
   "cell_type": "code",
   "execution_count": 2,
   "id": "a2ced084",
   "metadata": {},
   "outputs": [
    {
     "name": "stdout",
     "output_type": "stream",
     "text": [
      "Напишите ваше имя: Иван\n",
      "Hello, Иван\n"
     ]
    }
   ],
   "source": [
    "name = input(\"Напишите ваше имя: \")\n",
    "print(\"Hello,\", name)"
   ]
  },
  {
   "cell_type": "markdown",
   "id": "276c6ec1",
   "metadata": {},
   "source": [
    "# №2."
   ]
  },
  {
   "cell_type": "code",
   "execution_count": 1,
   "id": "55a50c9a",
   "metadata": {},
   "outputs": [
    {
     "name": "stdout",
     "output_type": "stream",
     "text": [
      "Введите ваше имя: Иван\n",
      "Введите фамилию: Иванов\n",
      "Hello, Иван Иванов\n"
     ]
    }
   ],
   "source": [
    "name = input(\"Введите ваше имя: \")\n",
    "surname = input(\"Введите фамилию: \")\n",
    "print(\"Hello,\", name, surname)"
   ]
  },
  {
   "cell_type": "markdown",
   "id": "06cbcc08",
   "metadata": {},
   "source": [
    "# №3."
   ]
  },
  {
   "cell_type": "code",
   "execution_count": 10,
   "id": "07f3a834",
   "metadata": {},
   "outputs": [
    {
     "name": "stdout",
     "output_type": "stream",
     "text": [
      "What do you call a bear with no teeth?\n",
      "A gummy bear!\n"
     ]
    }
   ],
   "source": [
    "print(\"What do you call a bear with no teeth?\\nA gummy bear!\")"
   ]
  },
  {
   "cell_type": "markdown",
   "id": "0bd8bfbe",
   "metadata": {},
   "source": [
    "# №4."
   ]
  },
  {
   "cell_type": "code",
   "execution_count": 16,
   "id": "889b1ec8",
   "metadata": {},
   "outputs": [
    {
     "name": "stdout",
     "output_type": "stream",
     "text": [
      "Введите первое число: 4\n",
      "Введите второе число: 8\n",
      "Сумма чисел:  12.0\n"
     ]
    }
   ],
   "source": [
    "number1 = float(input(\"Введите первое число: \"))\n",
    "number2 = float(input(\"Введите второе число: \"))\n",
    "print(\"Сумма чисел: \", number1 + number2)"
   ]
  },
  {
   "cell_type": "markdown",
   "id": "f0445fd5",
   "metadata": {},
   "source": [
    "# №5."
   ]
  },
  {
   "cell_type": "code",
   "execution_count": 17,
   "id": "4c7b7dff",
   "metadata": {},
   "outputs": [
    {
     "name": "stdout",
     "output_type": "stream",
     "text": [
      "Введите первое число: 4\n",
      "Введите второе число: 8\n",
      "Введите третье число: 15\n",
      "Результат умножения суммы двух первых чисел на третье:  180.0\n"
     ]
    }
   ],
   "source": [
    "number1 = float(input(\"Введите первое число: \"))\n",
    "number2 = float(input(\"Введите второе число: \"))\n",
    "number3 = float(input(\"Введите третье число: \"))\n",
    "print(\"Результат умножения суммы двух первых чисел на третье: \", (number1 + number2)*number3)"
   ]
  },
  {
   "cell_type": "markdown",
   "id": "06d53111",
   "metadata": {},
   "source": [
    "# №6."
   ]
  },
  {
   "cell_type": "code",
   "execution_count": 26,
   "id": "f4a44f45",
   "metadata": {},
   "outputs": [
    {
     "name": "stdout",
     "output_type": "stream",
     "text": [
      "Сколько кусков пиццы у вас было? 6\n",
      "Сколько кусков вы съели? 3\n",
      "Осталось 3 куска пиццы.\n"
     ]
    }
   ],
   "source": [
    "start = int(input(\"Сколько кусков пиццы у вас было? \"))\n",
    "eaten = int(input(\"Сколько кусков вы съели? \"))\n",
    "final = start - eaten\n",
    "if final == 1:\n",
    "    print(\"Осталcя {} кусок пиццы.\".format(str(final)))\n",
    "elif final == 2 or final == 3 or final == 4:\n",
    "    print(\"Осталось {} куска пиццы.\".format(str(final)))\n",
    "else:\n",
    "    print(\"Осталось {} кусков пиццы.\".format(str(final)))"
   ]
  },
  {
   "cell_type": "markdown",
   "id": "10b217a1",
   "metadata": {},
   "source": [
    "# №7."
   ]
  },
  {
   "cell_type": "code",
   "execution_count": 3,
   "id": "82055042",
   "metadata": {},
   "outputs": [
    {
     "name": "stdout",
     "output_type": "stream",
     "text": [
      "Print your name: Иван\n",
      "Print your age: 24\n",
      "Иван, next bithday you will be 25\n"
     ]
    }
   ],
   "source": [
    "name = input(\"Print your name: \")\n",
    "age = int(input(\"Print your age: \"))\n",
    "print(name+\",\", \"next bithday you will be\", str(age+1))"
   ]
  },
  {
   "cell_type": "markdown",
   "id": "94f89486",
   "metadata": {},
   "source": [
    "# №8."
   ]
  },
  {
   "cell_type": "code",
   "execution_count": 2,
   "id": "836e9d58",
   "metadata": {},
   "outputs": [
    {
     "name": "stdout",
     "output_type": "stream",
     "text": [
      "Напишите сумму обеда: 1234\n",
      "Введите количество участников обеда: 4\n",
      "С каждого по  308.5\n"
     ]
    }
   ],
   "source": [
    "summa = float(input(\"Напишите сумму обеда: \"))\n",
    "people = int(input(\"Введите количество участников обеда: \"))\n",
    "print(\"С каждого по \", str(summa/people))"
   ]
  },
  {
   "cell_type": "markdown",
   "id": "9d82b9b7",
   "metadata": {},
   "source": [
    "# №9."
   ]
  },
  {
   "cell_type": "code",
   "execution_count": 5,
   "id": "dec95330",
   "metadata": {},
   "outputs": [
    {
     "name": "stdout",
     "output_type": "stream",
     "text": [
      "Наберите количество дней: 24\n",
      "За это время пройдёт / прошло:  576  часов(а) или  34560  минут(а) или  2073600 минут(а)\n"
     ]
    }
   ],
   "source": [
    "days = int(input(\"Наберите количество дней: \"))\n",
    "print(\"За это время пройдёт / прошло: \", str(days*24), \" часов(а) или \", str(days*1440), \" минут(а) или \",\n",
    "str(days*86400), \"минут(а)\")"
   ]
  },
  {
   "cell_type": "markdown",
   "id": "348e59ae",
   "metadata": {},
   "source": [
    "# №10."
   ]
  },
  {
   "cell_type": "code",
   "execution_count": 8,
   "id": "e83179e7",
   "metadata": {},
   "outputs": [
    {
     "name": "stdout",
     "output_type": "stream",
     "text": [
      "Введите вес в килограммах: 56\n",
      "Вес в фунтах:  123.424 фунтов(а)\n"
     ]
    }
   ],
   "source": [
    "ves = float(input(\"Введите вес в килограммах: \"))\n",
    "print(\"Вес в фунтах: \", str(ves*2.204), \"фунтов(а)\")"
   ]
  },
  {
   "cell_type": "markdown",
   "id": "6edd5dbf",
   "metadata": {},
   "source": [
    "# №11."
   ]
  },
  {
   "cell_type": "code",
   "execution_count": 10,
   "id": "f0bcbc92",
   "metadata": {},
   "outputs": [
    {
     "name": "stdout",
     "output_type": "stream",
     "text": [
      "Введите число, которое больше 100: 156\n",
      "Введите число, которое меньше 10: 8\n",
      "Первое число в 19 раз(а) больше второго\n"
     ]
    }
   ],
   "source": [
    "number1 = float(input(\"Введите число, которое больше 100: \"))\n",
    "number2 = float(input(\"Введите число, которое меньше 10: \"))\n",
    "result = int(number1/number2)\n",
    "print(\"Первое число в {} раз(а) больше второго\".format(result))"
   ]
  },
  {
   "cell_type": "code",
   "execution_count": null,
   "id": "0925bf85",
   "metadata": {},
   "outputs": [],
   "source": []
  }
 ],
 "metadata": {
  "kernelspec": {
   "display_name": "Python 3 (ipykernel)",
   "language": "python",
   "name": "python3"
  },
  "language_info": {
   "codemirror_mode": {
    "name": "ipython",
    "version": 3
   },
   "file_extension": ".py",
   "mimetype": "text/x-python",
   "name": "python",
   "nbconvert_exporter": "python",
   "pygments_lexer": "ipython3",
   "version": "3.11.5"
  }
 },
 "nbformat": 4,
 "nbformat_minor": 5
}
